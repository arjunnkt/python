{
 "cells": [
  {
   "cell_type": "code",
   "execution_count": null,
   "metadata": {},
   "outputs": [],
   "source": [
    "#Declare an int value and store it in a variable. \n",
    "a = 10+5j\n",
    "# #Check the type and print the id of the same.\n",
    "# print(a, type(a), id(a))\n",
    "\n",
    "b = 5+10j\n",
    "#Find sum of both values\n",
    "# print(a+b)\n",
    "\n",
    "##Find differce between them\n",
    "#\n",
    "# print(a-b)\n",
    "#Find the product of both.\n",
    "\n",
    "# print(a*b)\n",
    "\n",
    "    #Find value after dividing first value with second value\n",
    "\n",
    "# print(a/b)\n",
    "# \n",
    "#   \n",
    "#     #Find the result of first value to the power of second value.\n",
    "# \n",
    "# print(a**b)\n",
    "# \n",
    "\n",
    "#Equuate them using equality operator (==, !=)\n",
    "# print(a==b)\n",
    "# print(a!=b)\n",
    "\n",
    "print(a is b)       #False   #True or False?\n",
    "print(a is not b)   #True   #True or False?\n",
    "#Membership operation\n",
    "#in, not in are two membership operators and it returns boolean value\n",
    "\n",
    "print('2.7' in 'Python2.7.8')                      #True\n",
    "print(10+20j in [10,10.20,10+20j,'Python'])        #True\n",
    "print(10+20j in (10,10.20,10+20j,'Python'))        #True\n",
    "print(30+40j in {1,20.30,30+40j})                  #True\n",
    "print(30+40j in {1:100, 2.3:200, 30+40j:300})      #True\n",
    "print(10 in range(20))                             #True\n"
   ]
  }
 ],
 "metadata": {
  "kernelspec": {
   "display_name": "Python 3",
   "language": "python",
   "name": "python3"
  }
 },
 "nbformat": 4,
 "nbformat_minor": 4
}
