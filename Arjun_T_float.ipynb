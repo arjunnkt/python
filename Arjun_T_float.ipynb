{
 "cells": [
  {
   "cell_type": "code",
   "execution_count": null,
   "metadata": {},
   "outputs": [],
   "source": [
    "#Declare an int value and store it in a variable. \n",
    "a = 10.5\n",
    "b = 20.5\n",
    "#Check the type and print the id of the same.\n",
    "print(a, type(a), id(a))\n",
    "print(b, type(b), id(b))\n",
    "# \n",
    "#Find sum of both values\n",
    "print(a+b)\n",
    "# \n",
    "##Find differce between them\n",
    "#\n",
    "print(a-b)\n",
    "#Find the product of both.\n",
    "# \n",
    "print(a*b)\n",
    "# \n",
    "#     #Find value after dividing first value with second value\n",
    "# \n",
    "print(a/b)\n",
    "# \n",
    "#     \n",
    "#     #Find the remainder after dividing first value with second value\n",
    "#     \n",
    "print(a%b)\n",
    "#     \n",
    "#     #Find the quotient after dividing first value with second value\n",
    "#     \n",
    "print(a//b)\n",
    "#     \n",
    "#     #Find the result of first value to the power of second value.\n",
    "# \n",
    "print(a**b)\n",
    "\n",
    "#Comparison Operators on boolean values\n",
    "print(a>b)\n",
    "print(a>=b)\n",
    "print(a<b)\n",
    "print(a<=b)\n",
    "#     \n",
    "#Equuate them using equality operator (==, !=)\n",
    "print(a==b)\n",
    "print(a!=b)\n",
    "\n",
    "\n"
   ]
  }
 ],
 "metadata": {
  "kernelspec": {
   "display_name": "Python 3",
   "language": "python",
   "name": "python3"
  }
 },
 "nbformat": 4,
 "nbformat_minor": 4
}
